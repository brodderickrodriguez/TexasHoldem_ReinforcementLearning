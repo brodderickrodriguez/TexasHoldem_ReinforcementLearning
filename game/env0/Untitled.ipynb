{
 "cells": [
  {
   "cell_type": "code",
   "execution_count": 1,
   "metadata": {},
   "outputs": [
    {
     "name": "stderr",
     "output_type": "stream",
     "text": [
      "Using TensorFlow backend.\n"
     ]
    },
    {
     "name": "stdout",
     "output_type": "stream",
     "text": [
      "WARNING:tensorflow:From C:\\Users\\corey\\Anaconda3\\lib\\site-packages\\tensorflow\\python\\framework\\op_def_library.py:263: colocate_with (from tensorflow.python.framework.ops) is deprecated and will be removed in a future version.\n",
      "Instructions for updating:\n",
      "Colocations handled automatically by placer.\n",
      "WARNING:tensorflow:From C:\\Users\\corey\\Documents\\GitHub\\TexasHoldem_ReinforcementLearning\\game\\env0\\model.py:29: softmax_cross_entropy_with_logits (from tensorflow.python.ops.nn_ops) is deprecated and will be removed in a future version.\n",
      "Instructions for updating:\n",
      "\n",
      "Future major versions of TensorFlow will allow gradients to flow\n",
      "into the labels input on backprop by default.\n",
      "\n",
      "See `tf.nn.softmax_cross_entropy_with_logits_v2`.\n",
      "\n",
      "memory load unsuccessful!\n",
      "LAYER 0\n"
     ]
    },
    {
     "data": {
      "text/plain": [
       "<Figure size 300x0 with 0 Axes>"
      ]
     },
     "metadata": {},
     "output_type": "display_data"
    },
    {
     "name": "stdout",
     "output_type": "stream",
     "text": [
      "LAYER 1\n"
     ]
    },
    {
     "data": {
      "text/plain": [
       "<Figure size 100x7500 with 75 Axes>"
      ]
     },
     "metadata": {},
     "output_type": "display_data"
    },
    {
     "name": "stdout",
     "output_type": "stream",
     "text": [
      "LAYER 2\n"
     ]
    },
    {
     "data": {
      "text/plain": [
       "<Figure size 300x400 with 4 Axes>"
      ]
     },
     "metadata": {},
     "output_type": "display_data"
    },
    {
     "name": "stdout",
     "output_type": "stream",
     "text": [
      "LAYER 3\n"
     ]
    },
    {
     "data": {
      "text/plain": [
       "<Figure size 300x0 with 0 Axes>"
      ]
     },
     "metadata": {},
     "output_type": "display_data"
    },
    {
     "name": "stdout",
     "output_type": "stream",
     "text": [
      "LAYER 4\n"
     ]
    },
    {
     "data": {
      "text/plain": [
       "<Figure size 7500x7500 with 330 Axes>"
      ]
     },
     "metadata": {},
     "output_type": "display_data"
    },
    {
     "data": {
      "text/plain": [
       "<Figure size 300x100 with 1 Axes>"
      ]
     },
     "metadata": {},
     "output_type": "display_data"
    },
    {
     "data": {
      "text/plain": [
       "<Figure size 300x300 with 1 Axes>"
      ]
     },
     "metadata": {},
     "output_type": "display_data"
    },
    {
     "name": "stdout",
     "output_type": "stream",
     "text": [
      "LAYER 5\n"
     ]
    },
    {
     "data": {
      "text/plain": [
       "<Figure size 300x400 with 4 Axes>"
      ]
     },
     "metadata": {},
     "output_type": "display_data"
    },
    {
     "name": "stdout",
     "output_type": "stream",
     "text": [
      "LAYER 6\n"
     ]
    },
    {
     "data": {
      "text/plain": [
       "<Figure size 300x0 with 0 Axes>"
      ]
     },
     "metadata": {},
     "output_type": "display_data"
    },
    {
     "name": "stdout",
     "output_type": "stream",
     "text": [
      "LAYER 7\n"
     ]
    },
    {
     "data": {
      "text/plain": [
       "<Figure size 7500x7500 with 27 Axes>"
      ]
     },
     "metadata": {},
     "output_type": "display_data"
    },
    {
     "data": {
      "text/plain": [
       "<Figure size 300x100 with 1 Axes>"
      ]
     },
     "metadata": {},
     "output_type": "display_data"
    },
    {
     "data": {
      "text/plain": [
       "<Figure size 300x300 with 1 Axes>"
      ]
     },
     "metadata": {},
     "output_type": "display_data"
    },
    {
     "name": "stdout",
     "output_type": "stream",
     "text": [
      "LAYER 8\n"
     ]
    },
    {
     "data": {
      "text/plain": [
       "<Figure size 300x400 with 4 Axes>"
      ]
     },
     "metadata": {},
     "output_type": "display_data"
    },
    {
     "name": "stdout",
     "output_type": "stream",
     "text": [
      "LAYER 9\n"
     ]
    },
    {
     "data": {
      "text/plain": [
       "<Figure size 300x0 with 0 Axes>"
      ]
     },
     "metadata": {},
     "output_type": "display_data"
    },
    {
     "name": "stdout",
     "output_type": "stream",
     "text": [
      "LAYER 10\n"
     ]
    },
    {
     "data": {
      "text/plain": [
       "<Figure size 300x0 with 0 Axes>"
      ]
     },
     "metadata": {},
     "output_type": "display_data"
    },
    {
     "name": "stderr",
     "output_type": "stream",
     "text": [
      "ERROR:root:Internal Python error in the inspect module.\n",
      "Below is the traceback from this internal error.\n",
      "\n"
     ]
    },
    {
     "name": "stdout",
     "output_type": "stream",
     "text": [
      "-Traceback (most recent call last):\n",
      "  File \"C:\\Users\\corey\\Anaconda3\\lib\\site-packages\\IPython\\core\\interactiveshell.py\", line 3296, in run_code\n",
      "    exec(code_obj, self.user_global_ns, self.user_ns)\n",
      "  File \"<ipython-input-1-3defcc5e9bdb>\", line 2, in <module>\n",
      "    Tests(0)\n",
      "  File \"C:\\Users\\corey\\Documents\\GitHub\\TexasHoldem_ReinforcementLearning\\game\\env0\\env.py\", line 76, in __init__\n",
      "    self.memory, scores = self.play_matches(self.best_agent, self.current_agent, episodes, memory=self.memory)\n",
      "  File \"C:\\Users\\corey\\Documents\\GitHub\\TexasHoldem_ReinforcementLearning\\game\\env0\\env.py\", line 103, in play_matches\n",
      "    pi, score = self.play([player1, player2])\n",
      "  File \"C:\\Users\\corey\\Documents\\GitHub\\TexasHoldem_ReinforcementLearning\\game\\env0\\env.py\", line 131, in play\n",
      "    actions = self.env.step(agents)\n",
      "  File \"C:\\Users\\corey\\Documents\\GitHub\\TexasHoldem_ReinforcementLearning\\game\\env0\\env.py\", line 40, in step\n",
      "    actions = [agent.update(observation, 1 if observation[0] != GameStage.INITIAL else 0) for agent in agents]\n",
      "  File \"C:\\Users\\corey\\Documents\\GitHub\\TexasHoldem_ReinforcementLearning\\game\\env0\\env.py\", line 40, in <listcomp>\n",
      "    actions = [agent.update(observation, 1 if observation[0] != GameStage.INITIAL else 0) for agent in agents]\n",
      "  File \"C:\\Users\\corey\\Documents\\GitHub\\TexasHoldem_ReinforcementLearning\\game\\env0\\agent_mcts.py\", line 135, in update\n",
      "    self.sim()\n",
      "  File \"C:\\Users\\corey\\Documents\\GitHub\\TexasHoldem_ReinforcementLearning\\game\\env0\\agent_mcts.py\", line 116, in sim\n",
      "    v, b       = self.eval(l, v, d, b)\n",
      "  File \"C:\\Users\\corey\\Documents\\GitHub\\TexasHoldem_ReinforcementLearning\\game\\env0\\agent_mcts.py\", line 33, in eval\n",
      "    value, probs = self.get_preds(leaf)\n",
      "  File \"C:\\Users\\corey\\Documents\\GitHub\\TexasHoldem_ReinforcementLearning\\game\\env0\\agent_mcts.py\", line 73, in get_preds\n",
      "    preds = self.model.predict(model_input)\n",
      "  File \"C:\\Users\\corey\\Documents\\GitHub\\TexasHoldem_ReinforcementLearning\\game\\env0\\model.py\", line 42, in predict\n",
      "    return self.model.predict(np.array([x]))\n",
      "  File \"C:\\Users\\corey\\Anaconda3\\lib\\site-packages\\keras\\engine\\training.py\", line 1169, in predict\n",
      "    steps=steps)\n",
      "  File \"C:\\Users\\corey\\Anaconda3\\lib\\site-packages\\keras\\engine\\training_arrays.py\", line 294, in predict_loop\n",
      "    batch_outs = f(ins_batch)\n",
      "  File \"C:\\Users\\corey\\Anaconda3\\lib\\site-packages\\keras\\backend\\tensorflow_backend.py\", line 2715, in __call__\n",
      "    return self._call(inputs)\n",
      "  File \"C:\\Users\\corey\\Anaconda3\\lib\\site-packages\\keras\\backend\\tensorflow_backend.py\", line 2671, in _call\n",
      "    session)\n",
      "  File \"C:\\Users\\corey\\Anaconda3\\lib\\site-packages\\keras\\backend\\tensorflow_backend.py\", line 2623, in _make_callable\n",
      "    callable_fn = session._make_callable_from_options(callable_opts)\n",
      "  File \"C:\\Users\\corey\\Anaconda3\\lib\\site-packages\\tensorflow\\python\\client\\session.py\", line 1470, in _make_callable_from_options\n",
      "    self._extend_graph()\n",
      "  File \"C:\\Users\\corey\\Anaconda3\\lib\\site-packages\\tensorflow\\python\\client\\session.py\", line 1352, in _extend_graph\n",
      "    tf_session.ExtendSession(self._session)\n",
      "KeyboardInterrupt\n",
      "\n",
      "During handling of the above exception, another exception occurred:\n",
      "\n",
      "Traceback (most recent call last):\n",
      "  File \"C:\\Users\\corey\\Anaconda3\\lib\\site-packages\\IPython\\core\\interactiveshell.py\", line 2033, in showtraceback\n",
      "    stb = value._render_traceback_()\n",
      "AttributeError: 'KeyboardInterrupt' object has no attribute '_render_traceback_'\n",
      "\n",
      "During handling of the above exception, another exception occurred:\n",
      "\n",
      "Traceback (most recent call last):\n",
      "  File \"C:\\Users\\corey\\Anaconda3\\lib\\site-packages\\IPython\\core\\ultratb.py\", line 1095, in get_records\n",
      "    return _fixed_getinnerframes(etb, number_of_lines_of_context, tb_offset)\n",
      "  File \"C:\\Users\\corey\\Anaconda3\\lib\\site-packages\\IPython\\core\\ultratb.py\", line 313, in wrapped\n",
      "    return f(*args, **kwargs)\n",
      "  File \"C:\\Users\\corey\\Anaconda3\\lib\\site-packages\\IPython\\core\\ultratb.py\", line 347, in _fixed_getinnerframes\n",
      "    records = fix_frame_records_filenames(inspect.getinnerframes(etb, context))\n",
      "  File \"C:\\Users\\corey\\Anaconda3\\lib\\inspect.py\", line 1490, in getinnerframes\n",
      "    frameinfo = (tb.tb_frame,) + getframeinfo(tb, context)\n",
      "  File \"C:\\Users\\corey\\Anaconda3\\lib\\inspect.py\", line 1448, in getframeinfo\n",
      "    filename = getsourcefile(frame) or getfile(frame)\n",
      "  File \"C:\\Users\\corey\\Anaconda3\\lib\\inspect.py\", line 696, in getsourcefile\n",
      "    if getattr(getmodule(object, filename), '__loader__', None) is not None:\n",
      "  File \"C:\\Users\\corey\\Anaconda3\\lib\\inspect.py\", line 739, in getmodule\n",
      "    f = getabsfile(module)\n",
      "  File \"C:\\Users\\corey\\Anaconda3\\lib\\inspect.py\", line 708, in getabsfile\n",
      "    _filename = getsourcefile(object) or getfile(object)\n",
      "  File \"C:\\Users\\corey\\Anaconda3\\lib\\inspect.py\", line 693, in getsourcefile\n",
      "    if os.path.exists(filename):\n",
      "  File \"C:\\Users\\corey\\Anaconda3\\lib\\genericpath.py\", line 19, in exists\n",
      "    os.stat(path)\n",
      "KeyboardInterrupt\n"
     ]
    },
    {
     "ename": "KeyboardInterrupt",
     "evalue": "",
     "output_type": "error",
     "traceback": [
      "\u001b[1;31m---------------------------------------------------------------------------\u001b[0m"
     ]
    }
   ],
   "source": [
    "from env import Tests\n",
    "Tests(0)"
   ]
  },
  {
   "cell_type": "code",
   "execution_count": null,
   "metadata": {},
   "outputs": [],
   "source": []
  }
 ],
 "metadata": {
  "kernelspec": {
   "display_name": "Python 3",
   "language": "python",
   "name": "python3"
  },
  "language_info": {
   "codemirror_mode": {
    "name": "ipython",
    "version": 3
   },
   "file_extension": ".py",
   "mimetype": "text/x-python",
   "name": "python",
   "nbconvert_exporter": "python",
   "pygments_lexer": "ipython3",
   "version": "3.6.8"
  }
 },
 "nbformat": 4,
 "nbformat_minor": 2
}
